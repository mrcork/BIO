{
  "nbformat": 4,
  "nbformat_minor": 0,
  "metadata": {
    "colab": {
      "name": "while loops.ipynb",
      "version": "0.3.2",
      "provenance": [],
      "collapsed_sections": [
        "BbjMaNSxLWbC"
      ],
      "include_colab_link": true
    },
    "kernelspec": {
      "name": "python3",
      "display_name": "Python 3"
    }
  },
  "cells": [
    {
      "cell_type": "markdown",
      "metadata": {
        "id": "view-in-github",
        "colab_type": "text"
      },
      "source": [
        "<a href=\"https://colab.research.google.com/github/mrcork/BIO/blob/master/while_loops.ipynb\" target=\"_parent\"><img src=\"https://colab.research.google.com/assets/colab-badge.svg\" alt=\"Open In Colab\"/></a>"
      ]
    },
    {
      "metadata": {
        "id": "LjXGvyPIwQRr",
        "colab_type": "text"
      },
      "cell_type": "markdown",
      "source": [
        "# While Loops\n",
        "\n",
        "To repeat part of a code we can use a while loop.\n",
        "\n",
        "\n",
        "> ```\n",
        "while <condition>:\n",
        "    <expression> #do stuff\n",
        "    <expression> #do stuff\n",
        "```\n",
        "\n",
        "Things to note:\n",
        "* ```<condition>``` is a boolean\n",
        "* If ```<condition>``` is ```True``` do all steps inside the while code block\n",
        "* Check ```<condition>``` again\n",
        "* Repeat until ```<condition>``` is ```False```\n",
        "\n",
        "![while loop flow chart](https://cis.stvincent.edu/html/tutorials/swd/basic/control/repetition/img/while.gif)\n",
        "\n"
      ]
    },
    {
      "metadata": {
        "id": "Q9NrN-d9Fg4m",
        "colab_type": "text"
      },
      "cell_type": "markdown",
      "source": [
        "## Example 1 - a gaming example"
      ]
    },
    {
      "metadata": {
        "id": "kq36sLpPFnq0",
        "colab_type": "code",
        "colab": {}
      },
      "cell_type": "code",
      "source": [
        "# 1.01\n",
        "\n",
        "print(\"*\"*6 + '\\n' + '  ㋡  ' + '\\n' + \"*\"*6)\n",
        "\n",
        "choice = input('You are lost in a forest!\\nGo left or right? ')\n",
        "\n",
        "while choice != 'right':\n",
        "    choice = input('You are lost in a forest!\\nGo left or right? ')\n",
        "\n",
        "print('\\nCongratulations! You got out of the forest.')"
      ],
      "execution_count": 0,
      "outputs": []
    },
    {
      "metadata": {
        "id": "2Axs6XLNJhyP",
        "colab_type": "text"
      },
      "cell_type": "markdown",
      "source": [
        "#### *Edit the code so that it does not matter if the user types right, Right or RIGHT*"
      ]
    },
    {
      "metadata": {
        "id": "lcNuI-bXF1k8",
        "colab_type": "code",
        "colab": {}
      },
      "cell_type": "code",
      "source": [
        "# 1.02\n",
        "## Edit the code so that it does not matter if the user types right, Right or RIGHT\n",
        "\n",
        "print(\"*\"*6 + '\\n' + '  ㋡  ' + '\\n' + \"*\"*6)\n",
        "\n",
        "choice = input('You are lost in a forest!\\nGo left or right? ')\n",
        "\n",
        "while choice != 'right':\n",
        "    choice = input('You are lost in a forest!\\nGo left or right? ')\n",
        "\n",
        "print('\\nCongratulations! You got out of the forest.')"
      ],
      "execution_count": 0,
      "outputs": []
    },
    {
      "metadata": {
        "id": "JY_h4ynRGKZW",
        "colab_type": "text"
      },
      "cell_type": "markdown",
      "source": [
        "## Example 2 - A Simple Loop"
      ]
    },
    {
      "metadata": {
        "id": "RSjJauj8vunz",
        "colab_type": "code",
        "colab": {}
      },
      "cell_type": "code",
      "source": [
        "# 2.01\n",
        "i = 0\n",
        "\n",
        "while i <= 5:\n",
        "    print(i)\n",
        "    i += 1\n",
        "\n",
        "print(\"\\ndone with while loop\")"
      ],
      "execution_count": 0,
      "outputs": []
    },
    {
      "metadata": {
        "id": "wkt2UiV-GcKu",
        "colab_type": "text"
      },
      "cell_type": "markdown",
      "source": [
        "### *What's the same what's different?*"
      ]
    },
    {
      "metadata": {
        "id": "Npu_T700wJQn",
        "colab_type": "code",
        "colab": {}
      },
      "cell_type": "code",
      "source": [
        "# 2.02\n",
        "i = 0\n",
        "\n",
        "while i < 5:\n",
        "    print(i)\n",
        "    i += 1\n",
        "\n",
        "print(\"\\ndone with while loop\")"
      ],
      "execution_count": 0,
      "outputs": []
    },
    {
      "metadata": {
        "id": "aly7S1MqJC5d",
        "colab_type": "code",
        "colab": {}
      },
      "cell_type": "code",
      "source": [
        "# 2.03\n",
        "i = 0\n",
        "\n",
        "while i <= 5:\n",
        "    print(i)\n",
        "    i = i + 1\n",
        "\n",
        "print(\"\\ndone with while loop\")"
      ],
      "execution_count": 0,
      "outputs": []
    },
    {
      "metadata": {
        "id": "qSCEx2DUIWU_",
        "colab_type": "code",
        "colab": {}
      },
      "cell_type": "code",
      "source": [
        "# 2.04\n",
        "i = 0\n",
        "\n",
        "while i <= 5:\n",
        "    print(i)\n",
        "\n",
        "print(\"\\ndone with while loop\")"
      ],
      "execution_count": 0,
      "outputs": []
    },
    {
      "metadata": {
        "id": "wUetFMfzH-x-",
        "colab_type": "code",
        "colab": {}
      },
      "cell_type": "code",
      "source": [
        "# 2.05\n",
        "i = 0\n",
        "\n",
        "while i <= 5:\n",
        "    print(i)\n",
        "    i += 1\n",
        "  \n",
        "    print(\"\\ndone with while loop\")"
      ],
      "execution_count": 0,
      "outputs": []
    },
    {
      "metadata": {
        "id": "lpEhvrKcHS3e",
        "colab_type": "text"
      },
      "cell_type": "markdown",
      "source": [
        "### *What's changed?*"
      ]
    },
    {
      "metadata": {
        "id": "nbrz1P2lHW0t",
        "colab_type": "code",
        "colab": {}
      },
      "cell_type": "code",
      "source": [
        "# 2.06\n",
        "i = 0\n",
        "\n",
        "while i <= 10:\n",
        "    print(i)\n",
        "    i += 1\n",
        "\n",
        "print(\"\\ndone with while loop\")"
      ],
      "execution_count": 0,
      "outputs": []
    },
    {
      "metadata": {
        "id": "2sfqEo0-Hguy",
        "colab_type": "code",
        "colab": {}
      },
      "cell_type": "code",
      "source": [
        "# 2.07\n",
        "i = 0\n",
        "\n",
        "while i <= 10:\n",
        "    print(i)\n",
        "    i += 2\n",
        "\n",
        "print(\"\\ndone with while loop\")"
      ],
      "execution_count": 0,
      "outputs": []
    },
    {
      "metadata": {
        "id": "uvE69i13IEG2",
        "colab_type": "code",
        "colab": {}
      },
      "cell_type": "code",
      "source": [
        "# 2.08\n",
        "i = 1\n",
        "\n",
        "while i <= 10:\n",
        "    print(i)\n",
        "    i += 2\n",
        "\n",
        "print(\"\\ndone with while loop\")"
      ],
      "execution_count": 0,
      "outputs": []
    },
    {
      "metadata": {
        "id": "kGlUFBQJIG22",
        "colab_type": "code",
        "colab": {}
      },
      "cell_type": "code",
      "source": [
        "# 2.09\n",
        "i = 0\n",
        "\n",
        "while i <= 10:\n",
        "    print(i,i*2)\n",
        "    i += 1\n",
        "\n",
        "print(\"\\ndone with while loop\")"
      ],
      "execution_count": 0,
      "outputs": []
    },
    {
      "metadata": {
        "id": "2f__zg72IQW4",
        "colab_type": "code",
        "colab": {}
      },
      "cell_type": "code",
      "source": [
        "# 2.10\n",
        "i = 0\n",
        "\n",
        "while i <= 10:\n",
        "    print(i, i**2)\n",
        "    i += 1\n",
        "\n",
        "print(\"\\ndone with while loop\")"
      ],
      "execution_count": 0,
      "outputs": []
    },
    {
      "metadata": {
        "id": "TzDv49IRIcS4",
        "colab_type": "code",
        "colab": {}
      },
      "cell_type": "code",
      "source": [
        "# 2.11\n",
        "i = 0\n",
        "n = 10\n",
        "\n",
        "while i <= n:\n",
        "    print(i, i**2)\n",
        "    i += 1\n",
        "\n",
        "print(\"\\ndone with while loop\")"
      ],
      "execution_count": 0,
      "outputs": []
    },
    {
      "metadata": {
        "id": "xjbj1GtUIihI",
        "colab_type": "code",
        "colab": {}
      },
      "cell_type": "code",
      "source": [
        "# 2.12\n",
        "i = 0\n",
        "n = input()\n",
        "\n",
        "while i <= n:\n",
        "    print(i, i**2)\n",
        "    i += 1\n",
        "\n",
        "print(\"\\ndone with while loop\")"
      ],
      "execution_count": 0,
      "outputs": []
    },
    {
      "metadata": {
        "id": "JJTe9NGOIlJB",
        "colab_type": "code",
        "colab": {}
      },
      "cell_type": "code",
      "source": [
        "# 2.13\n",
        "i = 0\n",
        "n = int(input())\n",
        "\n",
        "while i <= n:\n",
        "    print(i, i**2)\n",
        "    i += 1\n",
        "    \n",
        "print(\"\\ndone with while loop\")"
      ],
      "execution_count": 0,
      "outputs": []
    },
    {
      "metadata": {
        "id": "kc3qORcCM_WO",
        "colab_type": "code",
        "colab": {}
      },
      "cell_type": "code",
      "source": [
        "# 2.14\n",
        "i = 0\n",
        "n = int(input())\n",
        "\n",
        "while i**2 <= n:\n",
        "    print(i, i**2)\n",
        "    i += 1\n",
        "\n",
        "print(\"\\ndone with while loop\")"
      ],
      "execution_count": 0,
      "outputs": []
    },
    {
      "metadata": {
        "id": "BbjMaNSxLWbC",
        "colab_type": "text"
      },
      "cell_type": "markdown",
      "source": [
        "## Example 3 - Totalling\n",
        "\n",
        "Explain what the code does below"
      ]
    },
    {
      "metadata": {
        "id": "V_NKzT3OLfTf",
        "colab_type": "code",
        "colab": {}
      },
      "cell_type": "code",
      "source": [
        "# 3.01 \n",
        "counter = 0\n",
        "total = 0\n",
        "\n",
        "while counter < 6:\n",
        "    total += counter\n",
        "    counter += 1\n",
        "\n",
        "print(total)"
      ],
      "execution_count": 0,
      "outputs": []
    },
    {
      "metadata": {
        "id": "2BbQFaphL2N6",
        "colab_type": "code",
        "colab": {}
      },
      "cell_type": "code",
      "source": [
        "# 3.02\n",
        "counter = 0\n",
        "total = 0\n",
        "\n",
        "while counter < 6:\n",
        "    total += counter*2\n",
        "    counter += 1\n",
        "\n",
        "print(total)"
      ],
      "execution_count": 0,
      "outputs": []
    },
    {
      "metadata": {
        "id": "YxzYmQE9L-1w",
        "colab_type": "code",
        "colab": {}
      },
      "cell_type": "code",
      "source": [
        "# 3.03\n",
        "counter = 0\n",
        "total = 0\n",
        "\n",
        "while counter < 6:\n",
        "    total += counter**2\n",
        "    counter += 1\n",
        "\n",
        "print(total)"
      ],
      "execution_count": 0,
      "outputs": []
    },
    {
      "metadata": {
        "id": "g1cW0VLSNZEr",
        "colab_type": "code",
        "colab": {}
      },
      "cell_type": "code",
      "source": [
        "# 3.04\n",
        "counter = 0\n",
        "total = 0\n",
        "\n",
        "while counter < 6:\n",
        "    num = int(input())\n",
        "    total += num\n",
        "    counter += 1\n",
        "\n",
        "print('Total =', total)"
      ],
      "execution_count": 0,
      "outputs": []
    },
    {
      "metadata": {
        "id": "q0gGczpaOAVd",
        "colab_type": "code",
        "colab": {}
      },
      "cell_type": "code",
      "source": [
        "# 3.05\n",
        "counter = 0\n",
        "total = 0\n",
        "\n",
        "while counter < 6:\n",
        "    num = int(input())\n",
        "    total += num\n",
        "    counter += 1\n",
        "\n",
        "print('Total =', total)\n",
        "print('Average =', total/counter)"
      ],
      "execution_count": 0,
      "outputs": []
    }
  ]
}